{
 "cells": [
  {
   "cell_type": "code",
   "execution_count": 1,
   "metadata": {},
   "outputs": [],
   "source": [
    "import csv"
   ]
  },
  {
   "cell_type": "code",
   "execution_count": 3,
   "metadata": {},
   "outputs": [],
   "source": [
    "f = open('./example.csv', 'w', newline = '')\n",
    "\n",
    "wtr = csv.writer(f)\n",
    "\n",
    "wtr.writerow(['이름', '나이', '언어'])\n",
    "\n",
    "all_name = ['길동', '철수', '영희']\n",
    "all_age = [10, 20, 30]\n",
    "all_language = ['파이썬', 'C', '자바']\n",
    "\n",
    "for i in range(3):\n",
    "    name = all_name[i]\n",
    "    age = all_age[i]\n",
    "    language = all_language[i]\n",
    "    wtr.writerow([name, age, language])\n",
    "    \n",
    "f.close()"
   ]
  },
  {
   "cell_type": "code",
   "execution_count": 5,
   "metadata": {},
   "outputs": [
    {
     "name": "stdout",
     "output_type": "stream",
     "text": [
      "['길동', '10', '파이썬']\n",
      "['철수', '20', 'C']\n",
      "['영희', '30', '자바']\n"
     ]
    }
   ],
   "source": [
    "g = open('./example.csv', 'r')\n",
    "\n",
    "rdr = csv.reader(g)\n",
    "\n",
    "# 'rdr'의 첫번째는 건너뜀\n",
    "next(rdr)\n",
    "\n",
    "for row in rdr:\n",
    "    print(row)\n",
    "    \n",
    "g.close()"
   ]
  },
  {
   "cell_type": "code",
   "execution_count": 10,
   "metadata": {},
   "outputs": [],
   "source": [
    "k = open('./example.csv', 'a', newline = '')\n",
    "\n",
    "wtr = csv.writer(k)\n",
    "\n",
    "wtr.writerow(['바둑', 40, '파이썬'])\n",
    "wtr.writerow(['오목', 50, 'C'])\n",
    "\n",
    "k.close()"
   ]
  },
  {
   "cell_type": "code",
   "execution_count": null,
   "metadata": {},
   "outputs": [],
   "source": []
  }
 ],
 "metadata": {
  "kernelspec": {
   "display_name": "Python 3",
   "language": "python",
   "name": "python3"
  },
  "language_info": {
   "codemirror_mode": {
    "name": "ipython",
    "version": 3
   },
   "file_extension": ".py",
   "mimetype": "text/x-python",
   "name": "python",
   "nbconvert_exporter": "python",
   "pygments_lexer": "ipython3",
   "version": "3.8.5"
  }
 },
 "nbformat": 4,
 "nbformat_minor": 4
}
