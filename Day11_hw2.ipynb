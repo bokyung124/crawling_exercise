{
 "cells": [
  {
   "cell_type": "code",
   "execution_count": 1,
   "metadata": {},
   "outputs": [
    {
     "name": "stdout",
     "output_type": "stream",
     "text": [
      "번역할 영단어 : apple\n",
      "번역할 영단어 : computer\n",
      "번역할 영단어 : melon\n",
      "번역할 영단어 : television\n",
      "번역할 영단어 : except\n",
      "{'apple': '사과', 'computer': '컴퓨터', 'melon': '멜론', 'television': '텔레비전의', 'except': '…을 제외하고'}\n"
     ]
    }
   ],
   "source": [
    "from selenium.webdriver import Safari\n",
    "import time\n",
    "\n",
    "my_dict = {}\n",
    "\n",
    "driver = Safari()\n",
    "\n",
    "papago_url = 'https://papago.naver.com'\n",
    "driver.get(papago_url)\n",
    "time.sleep(3)\n",
    "\n",
    "def get_papago_url():\n",
    "    question = input('번역할 영단어 : ')\n",
    "    \n",
    "    driver.find_element_by_css_selector('textarea#txtSource').send_keys(question)\n",
    "    \n",
    "    driver.find_element_by_css_selector('button#btnTranslate').click()\n",
    "    time.sleep(3)\n",
    " \n",
    "    output = driver.find_element_by_css_selector('div#txtTarget').text\n",
    "    \n",
    "    my_dict[question] = output\n",
    "    \n",
    "    \n",
    "    driver.find_element_by_css_selector('textarea#txtSource').clear()\n",
    "    \n",
    "    return my_dict\n",
    "\n",
    "\n",
    "for i in range(5):\n",
    "     try: \n",
    "        get_papago_url()\n",
    "        time.sleep(5)\n",
    "    \n",
    "     except NoSuchElementException:\n",
    "        continue\n",
    "    \n",
    "print(my_dict)\n",
    "\n",
    "driver.close()"
   ]
  },
  {
   "cell_type": "code",
   "execution_count": null,
   "metadata": {},
   "outputs": [],
   "source": []
  }
 ],
 "metadata": {
  "kernelspec": {
   "display_name": "Python 3",
   "language": "python",
   "name": "python3"
  },
  "language_info": {
   "codemirror_mode": {
    "name": "ipython",
    "version": 3
   },
   "file_extension": ".py",
   "mimetype": "text/x-python",
   "name": "python",
   "nbconvert_exporter": "python",
   "pygments_lexer": "ipython3",
   "version": "3.8.5"
  }
 },
 "nbformat": 4,
 "nbformat_minor": 4
}
