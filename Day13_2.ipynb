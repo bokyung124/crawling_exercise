{
 "cells": [
  {
   "cell_type": "code",
   "execution_count": 2,
   "metadata": {},
   "outputs": [],
   "source": [
    "from selenium import webdriver\n",
    "import time\n",
    "import csv"
   ]
  },
  {
   "cell_type": "code",
   "execution_count": 3,
   "metadata": {},
   "outputs": [],
   "source": [
    "driver = webdriver.Chrome('/Users/bokyung/Documents/mogakco/chromedriver')\n",
    "\n",
    "papago_url = 'https://papago.naver.com/'\n",
    "driver.get(papago_url)\n",
    "time.sleep(3)"
   ]
  },
  {
   "cell_type": "code",
   "execution_count": 4,
   "metadata": {},
   "outputs": [
    {
     "data": {
      "text/plain": [
       "['영단어', '번역결과']"
      ]
     },
     "execution_count": 4,
     "metadata": {},
     "output_type": "execute_result"
    }
   ],
   "source": [
    "f = open('./my_papago.csv', 'r')\n",
    "\n",
    "rdr = csv.reader(f)\n",
    "next(rdr)"
   ]
  },
  {
   "cell_type": "code",
   "execution_count": 5,
   "metadata": {},
   "outputs": [],
   "source": [
    "my_dict = {}\n",
    "\n",
    "for row in rdr:\n",
    "    keyword = row[0]\n",
    "    korean = row[1]\n",
    "    my_dict[keyword] = korean\n",
    "    \n",
    "f.close()"
   ]
  },
  {
   "cell_type": "code",
   "execution_count": 6,
   "metadata": {},
   "outputs": [],
   "source": [
    "f = open('./my_papago.csv', 'a', newline = '')\n",
    "\n",
    "wtr = csv.writer(f)"
   ]
  },
  {
   "cell_type": "code",
   "execution_count": 7,
   "metadata": {},
   "outputs": [
    {
     "name": "stdout",
     "output_type": "stream",
     "text": [
      "번역할 영단어 입력 (0 입력하면 종료) : apple\n",
      "already translated, it means 사과\n",
      "번역할 영단어 입력 (0 입력하면 종료) : sas\n",
      "번역할 영단어 입력 (0 입력하면 종료) : calender\n",
      "번역할 영단어 입력 (0 입력하면 종료) : book\n",
      "번역할 영단어 입력 (0 입력하면 종료) : computer\n",
      "already translated, it means 컴퓨터\n",
      "번역할 영단어 입력 (0 입력하면 종료) : 0\n",
      "finish\n"
     ]
    }
   ],
   "source": [
    "while True:\n",
    "    keyword = input('번역할 영단어 입력 (0 입력하면 종료) : ')\n",
    "    if keyword == '0':\n",
    "        print('finish')\n",
    "        break\n",
    "    \n",
    "    if keyword in my_dict.keys():\n",
    "        print('already translated, it means', my_dict[keyword])\n",
    "    \n",
    "    else:\n",
    "        driver.find_element_by_css_selector('textarea#txtSource').send_keys(keyword)\n",
    "        driver.find_element_by_css_selector('button#btnTranslate').click()\n",
    "        time.sleep(1)\n",
    "\n",
    "        output = driver.find_element_by_css_selector('div#txtTarget').text\n",
    "        \n",
    "        wtr.writerow([keyword, output])\n",
    "        \n",
    "        my_dict[keyword] = output\n",
    "        \n",
    "        driver.find_element_by_css_selector('textarea#txtSource').clear()\n",
    "        \n",
    "driver.close()\n",
    "\n",
    "f.close()"
   ]
  }
 ],
 "metadata": {
  "kernelspec": {
   "display_name": "Python 3",
   "language": "python",
   "name": "python3"
  },
  "language_info": {
   "codemirror_mode": {
    "name": "ipython",
    "version": 3
   },
   "file_extension": ".py",
   "mimetype": "text/x-python",
   "name": "python",
   "nbconvert_exporter": "python",
   "pygments_lexer": "ipython3",
   "version": "3.8.5"
  }
 },
 "nbformat": 4,
 "nbformat_minor": 4
}
