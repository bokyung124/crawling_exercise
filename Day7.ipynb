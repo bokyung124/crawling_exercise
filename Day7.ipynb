{
 "cells": [
  {
   "cell_type": "code",
   "execution_count": 1,
   "metadata": {},
   "outputs": [],
   "source": [
    "#필요한 라이브러리 호출\n",
    "\n",
    "from bs4 import BeautifulSoup\n",
    "import requests"
   ]
  },
  {
   "cell_type": "code",
   "execution_count": 2,
   "metadata": {},
   "outputs": [],
   "source": [
    "#url을 변수에 저장하고, get함수를 통해 웹페이지 내용(코드) 저장\n",
    "\n",
    "lotto_url = 'https://dhlottery.co.kr/gameResult.do?method=byWin'\n",
    "raw = requests.get(lotto_url)"
   ]
  },
  {
   "cell_type": "code",
   "execution_count": 3,
   "metadata": {},
   "outputs": [],
   "source": [
    "#실제 html코드 저장\n",
    "\n",
    "soup = BeautifulSoup(raw.text, 'html.parser')"
   ]
  },
  {
   "cell_type": "code",
   "execution_count": 4,
   "metadata": {},
   "outputs": [],
   "source": [
    "#class = nums 부분 추출 후 그 안에서 span 태그를 가진 코드 추출\n",
    "\n",
    "box = soup.find('div', {'class' : 'nums'})\n",
    "numbers = box.find_all('span')"
   ]
  },
  {
   "cell_type": "code",
   "execution_count": 5,
   "metadata": {},
   "outputs": [
    {
     "name": "stdout",
     "output_type": "stream",
     "text": [
      "< 최근 로또 당첨 번호 >\n",
      "4\n",
      "9\n",
      "23\n",
      "26\n",
      "29\n",
      "33\n",
      "8\n"
     ]
    }
   ],
   "source": [
    "#span 태그 가진 코드 안에서 텍스트만 print\n",
    "\n",
    "print('< 최근 로또 당첨 번호 >')\n",
    "for num in numbers:\n",
    "    print(num.text)"
   ]
  }
 ],
 "metadata": {
  "kernelspec": {
   "display_name": "Python 3",
   "language": "python",
   "name": "python3"
  },
  "language_info": {
   "codemirror_mode": {
    "name": "ipython",
    "version": 3
   },
   "file_extension": ".py",
   "mimetype": "text/x-python",
   "name": "python",
   "nbconvert_exporter": "python",
   "pygments_lexer": "ipython3",
   "version": "3.8.5"
  }
 },
 "nbformat": 4,
 "nbformat_minor": 4
}
