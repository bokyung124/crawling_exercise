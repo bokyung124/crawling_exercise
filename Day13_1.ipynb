{
 "cells": [
  {
   "cell_type": "code",
   "execution_count": null,
   "metadata": {},
   "outputs": [],
   "source": [
    "from selenium import webdriver\n",
    "import csv\n",
    "import time"
   ]
  },
  {
   "cell_type": "code",
   "execution_count": null,
   "metadata": {},
   "outputs": [],
   "source": [
    "driver = webdriver.Chrome('/Users/bokyung/Documents/mogakco/chromedriver')\n",
    "\n",
    "papago_url = 'https://papago.naver.com/'\n",
    "driver.get(papago_url)\n",
    "\n",
    "time.sleep(3)"
   ]
  },
  {
   "cell_type": "code",
   "execution_count": null,
   "metadata": {},
   "outputs": [],
   "source": [
    "f = open('./my_papago.csv', 'w', newline = '')\n",
    "\n",
    "wtr = csv.writer(f)\n",
    "\n",
    "wtr.writerow(['영단어', '번역결과'])"
   ]
  },
  {
   "cell_type": "code",
   "execution_count": null,
   "metadata": {},
   "outputs": [],
   "source": [
    "while True:\n",
    "    keyword = input('번역할 영단어 입력 (0 입력하면 종료) : ')\n",
    "    if keyword == '0':\n",
    "        print('번역 종료')\n",
    "        break\n",
    "    \n",
    "    driver.find_element_by_css_selector('textarea#txtSource').send_keys(keyword)\n",
    "    driver.find_element_by_css_selector('button#btnTranslate').click()\n",
    "    time.sleep(1)\n",
    "    \n",
    "    output = driver.find_element_by_css_selector('div#txtTarget').text\n",
    "    \n",
    "    wtr.writerow([keyword, output])\n",
    "    \n",
    "    driver.find_element_by_css_selector('textarea#txtSource').clear()"
   ]
  },
  {
   "cell_type": "code",
   "execution_count": null,
   "metadata": {},
   "outputs": [],
   "source": [
    "driver.close()\n",
    "\n",
    "f.close()"
   ]
  }
 ],
 "metadata": {
  "kernelspec": {
   "display_name": "Python 3",
   "language": "python",
   "name": "python3"
  },
  "language_info": {
   "codemirror_mode": {
    "name": "ipython",
    "version": 3
   },
   "file_extension": ".py",
   "mimetype": "text/x-python",
   "name": "python",
   "nbconvert_exporter": "python",
   "pygments_lexer": "ipython3",
   "version": "3.8.5"
  }
 },
 "nbformat": 4,
 "nbformat_minor": 4
}
