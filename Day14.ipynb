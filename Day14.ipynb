{
 "cells": [
  {
   "cell_type": "code",
   "execution_count": 65,
   "metadata": {},
   "outputs": [],
   "source": [
    "from selenium import webdriver\n",
    "import time"
   ]
  },
  {
   "cell_type": "code",
   "execution_count": 54,
   "metadata": {},
   "outputs": [],
   "source": [
    "driver = webdriver.Chrome('/Users/bokyung/Documents/mogakco/chromedriver')\n",
    "\n",
    "login_url = 'https://nid.naver.com/nidlogin.login?mode=form&url=https%3A%2F%2Fwww.naver.com'\n",
    "driver.get(login_url)\n",
    "\n",
    "time.sleep(3)"
   ]
  },
  {
   "cell_type": "code",
   "execution_count": 55,
   "metadata": {},
   "outputs": [],
   "source": [
    "my_id = 'leebk1124'\n",
    "my_pw = 'dlqhrud-1124'"
   ]
  },
  {
   "cell_type": "code",
   "execution_count": 56,
   "metadata": {},
   "outputs": [],
   "source": [
    "#네이버 페이지 특성때문에 자바스크립트 함수를 활용해 아이디, 비밀번호 입력\n",
    "driver.execute_script(\"document.getElementsByName('id')[0].value = \\'\" + my_id + \"\\'\")\n",
    "driver.execute_script(\"document.getElementsByName('pw')[0].value = \\'\" + my_pw + \"\\'\")"
   ]
  },
  {
   "cell_type": "code",
   "execution_count": 57,
   "metadata": {},
   "outputs": [],
   "source": [
    "driver.find_element_by_id('log.login').click()\n",
    "\n",
    "time.sleep(1)"
   ]
  },
  {
   "cell_type": "code",
   "execution_count": 58,
   "metadata": {},
   "outputs": [],
   "source": [
    "comu_url = 'https://cafe.naver.com/codeuniv'\n",
    "driver.get(comu_url)\n",
    "\n",
    "time.sleep(1)"
   ]
  },
  {
   "cell_type": "code",
   "execution_count": 59,
   "metadata": {},
   "outputs": [],
   "source": [
    "driver.find_element_by_id('menuLink90').click()\n",
    "\n",
    "time.sleep(1)"
   ]
  },
  {
   "cell_type": "markdown",
   "metadata": {},
   "source": [
    "### 프레임\n",
    "\n",
    "웹페이지의 HTML 안에 또 다른 HTML을 넣어둔 것\n",
    "\n",
    "내가 원하는 정보가 화면에 보이고, HTML 코드에서도 원하는 정보가 모두 나타나지만\n",
    "파이썬으로 찾아보면 없거나 크롤링이 되지 않을 때 ex) 네이버 카페\n",
    "\n",
    "문제가 발생하는 웹 페이지 개발자 도구에서 Ctrl + F -> 검색창 -> iframe 검색\n",
    "\n",
    "원하는 선택자 사용하여 크롤링 할 때 프레임 전환\n",
    "\n",
    "#### 기본코드\n",
    "driver.switch_to.frame('프레임의 name')"
   ]
  },
  {
   "cell_type": "code",
   "execution_count": 60,
   "metadata": {},
   "outputs": [],
   "source": [
    "# 프레임 전환\n",
    "driver.switch_to.frame('cafe_main')\n",
    "\n",
    "time.sleep(1)"
   ]
  },
  {
   "cell_type": "code",
   "execution_count": 63,
   "metadata": {},
   "outputs": [],
   "source": [
    "# 첫번째 게시물 클릭 (XPath 활용\n",
    "driver.find_element_by_xpath('//*[@id=\"main-area\"]/div[4]/table/tbody/tr[1]/td[1]/div[2]/div/a').click()\n",
    "\n",
    "time.sleep(5)"
   ]
  },
  {
   "cell_type": "code",
   "execution_count": 64,
   "metadata": {},
   "outputs": [
    {
     "name": "stdout",
     "output_type": "stream",
     "text": [
      "책추처받습니다..\n"
     ]
    }
   ],
   "source": [
    "# 글 내용 출력\n",
    "driver.implicitly_wait(10)\n",
    "content = driver.find_element_by_css_selector('div.se-component-content').text\n",
    "\n",
    "print(content)\n",
    "\n",
    "driver.close()"
   ]
  }
 ],
 "metadata": {
  "kernelspec": {
   "display_name": "Python 3",
   "language": "python",
   "name": "python3"
  },
  "language_info": {
   "codemirror_mode": {
    "name": "ipython",
    "version": 3
   },
   "file_extension": ".py",
   "mimetype": "text/x-python",
   "name": "python",
   "nbconvert_exporter": "python",
   "pygments_lexer": "ipython3",
   "version": "3.8.5"
  }
 },
 "nbformat": 4,
 "nbformat_minor": 4
}
