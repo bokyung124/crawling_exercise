{
 "cells": [
  {
   "cell_type": "code",
   "execution_count": 1,
   "metadata": {},
   "outputs": [],
   "source": [
    "import csv"
   ]
  },
  {
   "cell_type": "code",
   "execution_count": 5,
   "metadata": {
    "scrolled": false
   },
   "outputs": [
    {
     "name": "stdout",
     "output_type": "stream",
     "text": [
      "[속보] 대전 종교 관련 비인가 교육시설서 127명 코로나 확진\n",
      "[속보] 정부 \"사회적 거리두기 단계 조정, 주중에 결정\"\n",
      "[속보] 정부 \"코로나19 백신 관련 가짜뉴스에 엄중 대응\"\n",
      "[속보] 코로나19 신규확진 392명…다시 300명대로\n",
      "[속보] 방역당국 \"코로나19 백신 접종 시행계획 28일 발표 예정\"\n",
      "[속보] 당국 \"초등학교 감염 위험성 평가후 등교수업 검토할 것\"\n",
      "[속보] 코로나19로 어제 9명 사망…총 1337명\n",
      "[속보] 코로나 431명 신규확진…하루만에 다시 400명대\n",
      "[속보] 코로나 신규확진, 어제 346명…사흘만에 다시 300명대\n",
      "[속보] 코로나19 신규확진 401명…이틀 연속 400명대 유지\n",
      "[속보] 文, 바이든 美 대통령에 축전 \"언제나 함께 하겠다\"\n",
      "[속보]바이든, 파리기후협약·세계보건기구 복귀에 서명\n",
      "[속보] 바이든, 백악관 도착…곧 첫 업무 시작\n",
      "[속보] 질병청 \"아스트라제네카 백신 1분기 도입 차질 없다\"\n",
      "[속보] 박근혜 전 대통령 코로나19 검사결과 '음성'\n",
      "[속보]\"5인이상 집합금지 폐지, 3차유행 감소세 평가 후 검토\"\n",
      "[속보] 박근혜, 코로나 확진자와 밀접접촉…오늘 검사 받는다\n",
      "[속보] 코로나19 신규확진 404명…18명 늘어 400명대로\n",
      "[속보] 박영선 장관, 사의 표명…서울시장 출마 선언할 듯\n",
      "[속보] 28일까지 영국발 항공편 운항 중단…1주일 연장\n",
      "[속보] 당국 \"1주만에 확진자 29%↓…최근 가장 큰 감소\"\n",
      "[속보] 경기 139명·서울 101명·인천 19명·부산 및 강원 17명 등 확진\n",
      "[속보] 코로나19 신규 확진 386명…이틀 연속 300명대\n",
      "[속보] 文 \"불통 논란? 코로나 때문에 기자회견 등 어려웠던 것\"\n",
      "[속보] 문 대통령 \"코로나 백신 부작용, 정부가 보상할 것\"\n",
      "[속보] 문 대통령 \"코로나 백신 충분히 빠르게 도입되고 있다\"\n",
      "[속보] 코로나19 어제 389명…서울 132명 경기 105명 경남 22명 등\n",
      "[속보] 코로나19 사망자 15명 늘어…누적 1264명\n",
      "[속보] 코로나19 어제 389명 추가…2개월 만에 첫 300명대\n"
     ]
    }
   ],
   "source": [
    "f = open('./covid19_articles.csv', 'r', encoding = 'cp949')\n",
    "\n",
    "rdr = csv.reader(f)\n",
    "count = 0\n",
    "\n",
    "for row in rdr:\n",
    "    if '속보' in row[2]:\n",
    "        print(row[2])\n",
    "        count += 1\n",
    "    else: \n",
    "        continue\n",
    "\n",
    "f.close()"
   ]
  },
  {
   "cell_type": "code",
   "execution_count": null,
   "metadata": {},
   "outputs": [],
   "source": []
  }
 ],
 "metadata": {
  "kernelspec": {
   "display_name": "Python 3",
   "language": "python",
   "name": "python3"
  },
  "language_info": {
   "codemirror_mode": {
    "name": "ipython",
    "version": 3
   },
   "file_extension": ".py",
   "mimetype": "text/x-python",
   "name": "python",
   "nbconvert_exporter": "python",
   "pygments_lexer": "ipython3",
   "version": "3.8.5"
  }
 },
 "nbformat": 4,
 "nbformat_minor": 4
}
